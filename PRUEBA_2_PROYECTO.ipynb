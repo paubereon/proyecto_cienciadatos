{
  "nbformat": 4,
  "nbformat_minor": 0,
  "metadata": {
    "colab": {
      "provenance": [],
      "gpuType": "T4",
      "include_colab_link": true
    },
    "kernelspec": {
      "name": "python3",
      "display_name": "Python 3"
    },
    "language_info": {
      "name": "python"
    },
    "accelerator": "GPU"
  },
  "cells": [
    {
      "cell_type": "markdown",
      "metadata": {
        "id": "view-in-github",
        "colab_type": "text"
      },
      "source": [
        "<a href=\"https://colab.research.google.com/github/paubereon/proyecto_cienciadatos/blob/main/PRUEBA_2_PROYECTO.ipynb\" target=\"_parent\"><img src=\"https://colab.research.google.com/assets/colab-badge.svg\" alt=\"Open In Colab\"/></a>"
      ]
    },
    {
      "cell_type": "code",
      "execution_count": null,
      "metadata": {
        "colab": {
          "base_uri": "https://localhost:8080/"
        },
        "id": "WZa5_cw3xhp9",
        "outputId": "782eca4b-5929-474a-d37e-a3a7095c6921"
      },
      "outputs": [
        {
          "output_type": "stream",
          "name": "stdout",
          "text": [
            "Path to dataset files: /root/.cache/kagglehub/datasets/moltean/fruits/versions/29\n"
          ]
        }
      ],
      "source": [
        "import tensorflow as tf\n",
        "from tensorflow.keras.preprocessing.image import ImageDataGenerator\n",
        "import matplotlib.pyplot as plt\n",
        "\n",
        "import kagglehub\n",
        "\n",
        "# Download latest version\n",
        "path = kagglehub.dataset_download(\"moltean/fruits\")\n",
        "\n",
        "print(\"Path to dataset files:\", path)\n",
        "\n"
      ]
    },
    {
      "cell_type": "code",
      "source": [
        "import keras\n",
        "print(keras.__version__)\n"
      ],
      "metadata": {
        "id": "YG45a0pm3Dwd"
      },
      "execution_count": null,
      "outputs": []
    },
    {
      "cell_type": "code",
      "source": [
        "import os\n",
        "dataset_path = path\n",
        "# Rutas del dataset (ajusta según tu descarga)\n",
        "train_path = os.path.join(dataset_path, \"fruits-360_100x100\", \"fruits-360\", \"Training\")\n",
        "test_path = os.path.join(dataset_path, \"fruits-360_100x100\", \"fruits-360\", \"Test\")\n",
        "\n",
        "# Preprocesamiento y aumento de datos\n",
        "train_datagen = ImageDataGenerator(\n",
        "    rescale=1./255,\n",
        "    rotation_range=20,\n",
        "    width_shift_range=0.2,\n",
        "    height_shift_range=0.2,\n",
        "    shear_range=0.2,\n",
        "    zoom_range=0.2,\n",
        "    horizontal_flip=True,\n",
        "    fill_mode='nearest'\n",
        ")\n",
        "\n",
        "test_datagen = ImageDataGenerator(rescale=1./255)\n",
        "\n",
        "# Generadores de datos\n",
        "train_generator = train_datagen.flow_from_directory(\n",
        "    train_path,\n",
        "    target_size=(100, 100),\n",
        "    batch_size=32,\n",
        "    class_mode='categorical'\n",
        ")\n",
        "\n",
        "# Obtener las clases de train_generator\n",
        "class_names = list(train_generator.class_indices.keys())\n",
        "\n",
        "# Aplicar las mismas clases en test_generator\n",
        "test_generator = test_datagen.flow_from_directory(\n",
        "    test_path,\n",
        "    target_size=(100, 100),\n",
        "    batch_size=32,\n",
        "    class_mode='categorical',\n",
        "    classes=class_names,  # Forzar mismas clases que train\n",
        "    shuffle=False\n",
        ")\n",
        "\n",
        "# Mostrar clases disponibles\n",
        "print(\"Clases de frutas:\", train_generator.class_indices)"
      ],
      "metadata": {
        "colab": {
          "base_uri": "https://localhost:8080/"
        },
        "id": "M4-yhK7oy5zQ",
        "outputId": "35f7eded-115b-4d7d-ba83-619630864579"
      },
      "execution_count": null,
      "outputs": [
        {
          "output_type": "stream",
          "name": "stdout",
          "text": [
            "Found 86554 images belonging to 170 classes.\n",
            "Found 28863 images belonging to 170 classes.\n",
            "Clases de frutas: {'Apple 10': 0, 'Apple 12': 1, 'Apple 13': 2, 'Apple 14': 3, 'Apple 17': 4, 'Apple 19': 5, 'Apple 6': 6, 'Apple 9': 7, 'Apple Braeburn 1': 8, 'Apple Core 1': 9, 'Apple Crimson Snow 1': 10, 'Apple Golden 1': 11, 'Apple Golden 2': 12, 'Apple Golden 3': 13, 'Apple Granny Smith 1': 14, 'Apple Pink Lady 1': 15, 'Apple Red 1': 16, 'Apple Red 2': 17, 'Apple Red 3': 18, 'Apple Red Delicious 1': 19, 'Apple Red Yellow 1': 20, 'Apple Red Yellow 2': 21, 'Apple Rotten 1': 22, 'Apple hit 1': 23, 'Apple worm 1': 24, 'Apricot 1': 25, 'Avocado 1': 26, 'Avocado ripe 1': 27, 'Banana 1': 28, 'Banana 3': 29, 'Banana Lady Finger 1': 30, 'Banana Red 1': 31, 'Beans 1': 32, 'Beetroot 1': 33, 'Blackberrie 1': 34, 'Blackberrie 2': 35, 'Blackberrie half rippen 1': 36, 'Blackberrie not rippen 1': 37, 'Blueberry 1': 38, 'Cabbage red 1': 39, 'Cabbage white 1': 40, 'Cactus fruit 1': 41, 'Cactus fruit green 1': 42, 'Cactus fruit red 1': 43, 'Caju seed 1': 44, 'Cantaloupe 1': 45, 'Cantaloupe 2': 46, 'Carambula 1': 47, 'Carrot 1': 48, 'Cauliflower 1': 49, 'Cherimoya 1': 50, 'Cherry 1': 51, 'Cherry 2': 52, 'Cherry Rainier 1': 53, 'Cherry Wax Black 1': 54, 'Cherry Wax Red 1': 55, 'Cherry Wax Yellow 1': 56, 'Cherry Wax not rippen 1': 57, 'Chestnut 1': 58, 'Clementine 1': 59, 'Cocos 1': 60, 'Corn 1': 61, 'Corn Husk 1': 62, 'Cucumber 1': 63, 'Cucumber 10': 64, 'Cucumber 3': 65, 'Cucumber 9': 66, 'Cucumber Ripe 1': 67, 'Cucumber Ripe 2': 68, 'Dates 1': 69, 'Eggplant 1': 70, 'Eggplant long 1': 71, 'Fig 1': 72, 'Ginger Root 1': 73, 'Gooseberry 1': 74, 'Granadilla 1': 75, 'Grape Blue 1': 76, 'Grape Pink 1': 77, 'Grape White 1': 78, 'Grape White 2': 79, 'Grape White 3': 80, 'Grape White 4': 81, 'Grapefruit Pink 1': 82, 'Grapefruit White 1': 83, 'Guava 1': 84, 'Hazelnut 1': 85, 'Huckleberry 1': 86, 'Kaki 1': 87, 'Kiwi 1': 88, 'Kohlrabi 1': 89, 'Kumquats 1': 90, 'Lemon 1': 91, 'Lemon Meyer 1': 92, 'Limes 1': 93, 'Lychee 1': 94, 'Mandarine 1': 95, 'Mango 1': 96, 'Mango Red 1': 97, 'Mangostan 1': 98, 'Maracuja 1': 99, 'Melon Piel de Sapo 1': 100, 'Mulberry 1': 101, 'Nectarine 1': 102, 'Nectarine Flat 1': 103, 'Nut Forest 1': 104, 'Nut Pecan 1': 105, 'Onion Red 1': 106, 'Onion Red Peeled 1': 107, 'Onion White 1': 108, 'Orange 1': 109, 'Papaya 1': 110, 'Passion Fruit 1': 111, 'Peach 1': 112, 'Peach 2': 113, 'Peach Flat 1': 114, 'Pear 1': 115, 'Pear 2': 116, 'Pear 3': 117, 'Pear Abate 1': 118, 'Pear Forelle 1': 119, 'Pear Kaiser 1': 120, 'Pear Monster 1': 121, 'Pear Red 1': 122, 'Pear Stone 1': 123, 'Pear Williams 1': 124, 'Pepino 1': 125, 'Pepper Green 1': 126, 'Pepper Orange 1': 127, 'Pepper Red 1': 128, 'Pepper Yellow 1': 129, 'Physalis 1': 130, 'Physalis with Husk 1': 131, 'Pineapple 1': 132, 'Pineapple Mini 1': 133, 'Pistachio 1': 134, 'Pitahaya Red 1': 135, 'Plum 1': 136, 'Plum 2': 137, 'Plum 3': 138, 'Pomegranate 1': 139, 'Pomelo Sweetie 1': 140, 'Potato Red 1': 141, 'Potato Red Washed 1': 142, 'Potato Sweet 1': 143, 'Potato White 1': 144, 'Quince 1': 145, 'Quince 2': 146, 'Quince 3': 147, 'Quince 4': 148, 'Rambutan 1': 149, 'Raspberry 1': 150, 'Redcurrant 1': 151, 'Salak 1': 152, 'Strawberry 1': 153, 'Strawberry Wedge 1': 154, 'Tamarillo 1': 155, 'Tangelo 1': 156, 'Tomato 1': 157, 'Tomato 2': 158, 'Tomato 3': 159, 'Tomato 4': 160, 'Tomato Cherry Red 1': 161, 'Tomato Heart 1': 162, 'Tomato Maroon 1': 163, 'Tomato Yellow 1': 164, 'Tomato not Ripened 1': 165, 'Walnut 1': 166, 'Watermelon 1': 167, 'Zucchini 1': 168, 'Zucchini dark 1': 169}\n"
          ]
        }
      ]
    },
    {
      "cell_type": "code",
      "source": [
        "print(\"Número de clases en train_generator:\", train_generator.num_classes)\n",
        "print(\"Clases en train_generator:\", train_generator.class_indices)\n",
        "print(\"Número de clases en test_generator:\", test_generator.num_classes)"
      ],
      "metadata": {
        "colab": {
          "base_uri": "https://localhost:8080/"
        },
        "id": "d5rAZUG81GrA",
        "outputId": "215e8736-7efa-4179-d423-51cab8e4859d"
      },
      "execution_count": null,
      "outputs": [
        {
          "output_type": "stream",
          "name": "stdout",
          "text": [
            "Número de clases en train_generator: 170\n",
            "Clases en train_generator: {'Apple 10': 0, 'Apple 12': 1, 'Apple 13': 2, 'Apple 14': 3, 'Apple 17': 4, 'Apple 19': 5, 'Apple 6': 6, 'Apple 9': 7, 'Apple Braeburn 1': 8, 'Apple Core 1': 9, 'Apple Crimson Snow 1': 10, 'Apple Golden 1': 11, 'Apple Golden 2': 12, 'Apple Golden 3': 13, 'Apple Granny Smith 1': 14, 'Apple Pink Lady 1': 15, 'Apple Red 1': 16, 'Apple Red 2': 17, 'Apple Red 3': 18, 'Apple Red Delicious 1': 19, 'Apple Red Yellow 1': 20, 'Apple Red Yellow 2': 21, 'Apple Rotten 1': 22, 'Apple hit 1': 23, 'Apple worm 1': 24, 'Apricot 1': 25, 'Avocado 1': 26, 'Avocado ripe 1': 27, 'Banana 1': 28, 'Banana 3': 29, 'Banana Lady Finger 1': 30, 'Banana Red 1': 31, 'Beans 1': 32, 'Beetroot 1': 33, 'Blackberrie 1': 34, 'Blackberrie 2': 35, 'Blackberrie half rippen 1': 36, 'Blackberrie not rippen 1': 37, 'Blueberry 1': 38, 'Cabbage red 1': 39, 'Cabbage white 1': 40, 'Cactus fruit 1': 41, 'Cactus fruit green 1': 42, 'Cactus fruit red 1': 43, 'Caju seed 1': 44, 'Cantaloupe 1': 45, 'Cantaloupe 2': 46, 'Carambula 1': 47, 'Carrot 1': 48, 'Cauliflower 1': 49, 'Cherimoya 1': 50, 'Cherry 1': 51, 'Cherry 2': 52, 'Cherry Rainier 1': 53, 'Cherry Wax Black 1': 54, 'Cherry Wax Red 1': 55, 'Cherry Wax Yellow 1': 56, 'Cherry Wax not rippen 1': 57, 'Chestnut 1': 58, 'Clementine 1': 59, 'Cocos 1': 60, 'Corn 1': 61, 'Corn Husk 1': 62, 'Cucumber 1': 63, 'Cucumber 10': 64, 'Cucumber 3': 65, 'Cucumber 9': 66, 'Cucumber Ripe 1': 67, 'Cucumber Ripe 2': 68, 'Dates 1': 69, 'Eggplant 1': 70, 'Eggplant long 1': 71, 'Fig 1': 72, 'Ginger Root 1': 73, 'Gooseberry 1': 74, 'Granadilla 1': 75, 'Grape Blue 1': 76, 'Grape Pink 1': 77, 'Grape White 1': 78, 'Grape White 2': 79, 'Grape White 3': 80, 'Grape White 4': 81, 'Grapefruit Pink 1': 82, 'Grapefruit White 1': 83, 'Guava 1': 84, 'Hazelnut 1': 85, 'Huckleberry 1': 86, 'Kaki 1': 87, 'Kiwi 1': 88, 'Kohlrabi 1': 89, 'Kumquats 1': 90, 'Lemon 1': 91, 'Lemon Meyer 1': 92, 'Limes 1': 93, 'Lychee 1': 94, 'Mandarine 1': 95, 'Mango 1': 96, 'Mango Red 1': 97, 'Mangostan 1': 98, 'Maracuja 1': 99, 'Melon Piel de Sapo 1': 100, 'Mulberry 1': 101, 'Nectarine 1': 102, 'Nectarine Flat 1': 103, 'Nut Forest 1': 104, 'Nut Pecan 1': 105, 'Onion Red 1': 106, 'Onion Red Peeled 1': 107, 'Onion White 1': 108, 'Orange 1': 109, 'Papaya 1': 110, 'Passion Fruit 1': 111, 'Peach 1': 112, 'Peach 2': 113, 'Peach Flat 1': 114, 'Pear 1': 115, 'Pear 2': 116, 'Pear 3': 117, 'Pear Abate 1': 118, 'Pear Forelle 1': 119, 'Pear Kaiser 1': 120, 'Pear Monster 1': 121, 'Pear Red 1': 122, 'Pear Stone 1': 123, 'Pear Williams 1': 124, 'Pepino 1': 125, 'Pepper Green 1': 126, 'Pepper Orange 1': 127, 'Pepper Red 1': 128, 'Pepper Yellow 1': 129, 'Physalis 1': 130, 'Physalis with Husk 1': 131, 'Pineapple 1': 132, 'Pineapple Mini 1': 133, 'Pistachio 1': 134, 'Pitahaya Red 1': 135, 'Plum 1': 136, 'Plum 2': 137, 'Plum 3': 138, 'Pomegranate 1': 139, 'Pomelo Sweetie 1': 140, 'Potato Red 1': 141, 'Potato Red Washed 1': 142, 'Potato Sweet 1': 143, 'Potato White 1': 144, 'Quince 1': 145, 'Quince 2': 146, 'Quince 3': 147, 'Quince 4': 148, 'Rambutan 1': 149, 'Raspberry 1': 150, 'Redcurrant 1': 151, 'Salak 1': 152, 'Strawberry 1': 153, 'Strawberry Wedge 1': 154, 'Tamarillo 1': 155, 'Tangelo 1': 156, 'Tomato 1': 157, 'Tomato 2': 158, 'Tomato 3': 159, 'Tomato 4': 160, 'Tomato Cherry Red 1': 161, 'Tomato Heart 1': 162, 'Tomato Maroon 1': 163, 'Tomato Yellow 1': 164, 'Tomato not Ripened 1': 165, 'Walnut 1': 166, 'Watermelon 1': 167, 'Zucchini 1': 168, 'Zucchini dark 1': 169}\n",
            "Número de clases en test_generator: 170\n"
          ]
        }
      ]
    },
    {
      "cell_type": "code",
      "source": [
        "from tensorflow.keras.models import Sequential\n",
        "from tensorflow.keras.layers import Conv2D, MaxPooling2D, Flatten, Dense, Dropout\n",
        "\n",
        "model = Sequential([\n",
        "    Conv2D(32, (3, 3), activation='relu', input_shape=(100, 100, 3)),\n",
        "    MaxPooling2D(2, 2),\n",
        "    Conv2D(64, (3, 3), activation='relu'),\n",
        "    MaxPooling2D(2, 2),\n",
        "    Conv2D(128, (3, 3), activation='relu'),\n",
        "    MaxPooling2D(2, 2),\n",
        "    Flatten(),\n",
        "    Dense(512, activation='relu'),\n",
        "    Dropout(0.5),\n",
        "    Dense(train_generator.num_classes, activation='softmax')\n",
        "])\n",
        "\n",
        "model.compile(\n",
        "    optimizer='adam',\n",
        "    loss='categorical_crossentropy',\n",
        "    metrics=['accuracy']\n",
        ")\n",
        "\n",
        "# Entrenamiento\n",
        "history = model.fit(\n",
        "    train_generator,\n",
        "    epochs=10,\n",
        "    validation_data=test_generator\n",
        ")\n",
        "\n",
        "# Guardar el modelo\n",
        "model.save(\"fruit_recognition_model.h5\")"
      ],
      "metadata": {
        "colab": {
          "base_uri": "https://localhost:8080/",
          "height": 391
        },
        "id": "P22nwKL2yEOw",
        "outputId": "d1f03b49-25bb-4c46-97de-40ffc600639c"
      },
      "execution_count": null,
      "outputs": [
        {
          "output_type": "stream",
          "name": "stdout",
          "text": [
            "Epoch 1/10\n",
            "  13/2705 [..............................] - ETA: 29:41 - loss: 5.1595 - accuracy: 0.0049"
          ]
        },
        {
          "output_type": "error",
          "ename": "KeyboardInterrupt",
          "evalue": "",
          "traceback": [
            "\u001b[0;31m---------------------------------------------------------------------------\u001b[0m",
            "\u001b[0;31mKeyboardInterrupt\u001b[0m                         Traceback (most recent call last)",
            "\u001b[0;32m<ipython-input-9-13935f400b24>\u001b[0m in \u001b[0;36m<cell line: 0>\u001b[0;34m()\u001b[0m\n\u001b[1;32m     22\u001b[0m \u001b[0;34m\u001b[0m\u001b[0m\n\u001b[1;32m     23\u001b[0m \u001b[0;31m# Entrenamiento\u001b[0m\u001b[0;34m\u001b[0m\u001b[0;34m\u001b[0m\u001b[0m\n\u001b[0;32m---> 24\u001b[0;31m history = model.fit(\n\u001b[0m\u001b[1;32m     25\u001b[0m     \u001b[0mtrain_generator\u001b[0m\u001b[0;34m,\u001b[0m\u001b[0;34m\u001b[0m\u001b[0;34m\u001b[0m\u001b[0m\n\u001b[1;32m     26\u001b[0m     \u001b[0mepochs\u001b[0m\u001b[0;34m=\u001b[0m\u001b[0;36m10\u001b[0m\u001b[0;34m,\u001b[0m\u001b[0;34m\u001b[0m\u001b[0;34m\u001b[0m\u001b[0m\n",
            "\u001b[0;32m/usr/local/lib/python3.11/dist-packages/keras/utils/traceback_utils.py\u001b[0m in \u001b[0;36merror_handler\u001b[0;34m(*args, **kwargs)\u001b[0m\n\u001b[1;32m     63\u001b[0m         \u001b[0mfiltered_tb\u001b[0m \u001b[0;34m=\u001b[0m \u001b[0;32mNone\u001b[0m\u001b[0;34m\u001b[0m\u001b[0;34m\u001b[0m\u001b[0m\n\u001b[1;32m     64\u001b[0m         \u001b[0;32mtry\u001b[0m\u001b[0;34m:\u001b[0m\u001b[0;34m\u001b[0m\u001b[0;34m\u001b[0m\u001b[0m\n\u001b[0;32m---> 65\u001b[0;31m             \u001b[0;32mreturn\u001b[0m \u001b[0mfn\u001b[0m\u001b[0;34m(\u001b[0m\u001b[0;34m*\u001b[0m\u001b[0margs\u001b[0m\u001b[0;34m,\u001b[0m \u001b[0;34m**\u001b[0m\u001b[0mkwargs\u001b[0m\u001b[0;34m)\u001b[0m\u001b[0;34m\u001b[0m\u001b[0;34m\u001b[0m\u001b[0m\n\u001b[0m\u001b[1;32m     66\u001b[0m         \u001b[0;32mexcept\u001b[0m \u001b[0mException\u001b[0m \u001b[0;32mas\u001b[0m \u001b[0me\u001b[0m\u001b[0;34m:\u001b[0m\u001b[0;34m\u001b[0m\u001b[0;34m\u001b[0m\u001b[0m\n\u001b[1;32m     67\u001b[0m             \u001b[0mfiltered_tb\u001b[0m \u001b[0;34m=\u001b[0m \u001b[0m_process_traceback_frames\u001b[0m\u001b[0;34m(\u001b[0m\u001b[0me\u001b[0m\u001b[0;34m.\u001b[0m\u001b[0m__traceback__\u001b[0m\u001b[0;34m)\u001b[0m\u001b[0;34m\u001b[0m\u001b[0;34m\u001b[0m\u001b[0m\n",
            "\u001b[0;32m/usr/local/lib/python3.11/dist-packages/keras/engine/training.py\u001b[0m in \u001b[0;36mfit\u001b[0;34m(self, x, y, batch_size, epochs, verbose, callbacks, validation_split, validation_data, shuffle, class_weight, sample_weight, initial_epoch, steps_per_epoch, validation_steps, validation_batch_size, validation_freq, max_queue_size, workers, use_multiprocessing)\u001b[0m\n\u001b[1;32m   1683\u001b[0m                         ):\n\u001b[1;32m   1684\u001b[0m                             \u001b[0mcallbacks\u001b[0m\u001b[0;34m.\u001b[0m\u001b[0mon_train_batch_begin\u001b[0m\u001b[0;34m(\u001b[0m\u001b[0mstep\u001b[0m\u001b[0;34m)\u001b[0m\u001b[0;34m\u001b[0m\u001b[0;34m\u001b[0m\u001b[0m\n\u001b[0;32m-> 1685\u001b[0;31m                             \u001b[0mtmp_logs\u001b[0m \u001b[0;34m=\u001b[0m \u001b[0mself\u001b[0m\u001b[0;34m.\u001b[0m\u001b[0mtrain_function\u001b[0m\u001b[0;34m(\u001b[0m\u001b[0miterator\u001b[0m\u001b[0;34m)\u001b[0m\u001b[0;34m\u001b[0m\u001b[0;34m\u001b[0m\u001b[0m\n\u001b[0m\u001b[1;32m   1686\u001b[0m                             \u001b[0;32mif\u001b[0m \u001b[0mdata_handler\u001b[0m\u001b[0;34m.\u001b[0m\u001b[0mshould_sync\u001b[0m\u001b[0;34m:\u001b[0m\u001b[0;34m\u001b[0m\u001b[0;34m\u001b[0m\u001b[0m\n\u001b[1;32m   1687\u001b[0m                                 \u001b[0mcontext\u001b[0m\u001b[0;34m.\u001b[0m\u001b[0masync_wait\u001b[0m\u001b[0;34m(\u001b[0m\u001b[0;34m)\u001b[0m\u001b[0;34m\u001b[0m\u001b[0;34m\u001b[0m\u001b[0m\n",
            "\u001b[0;32m/usr/local/lib/python3.11/dist-packages/tensorflow/python/util/traceback_utils.py\u001b[0m in \u001b[0;36merror_handler\u001b[0;34m(*args, **kwargs)\u001b[0m\n\u001b[1;32m    148\u001b[0m     \u001b[0mfiltered_tb\u001b[0m \u001b[0;34m=\u001b[0m \u001b[0;32mNone\u001b[0m\u001b[0;34m\u001b[0m\u001b[0;34m\u001b[0m\u001b[0m\n\u001b[1;32m    149\u001b[0m     \u001b[0;32mtry\u001b[0m\u001b[0;34m:\u001b[0m\u001b[0;34m\u001b[0m\u001b[0;34m\u001b[0m\u001b[0m\n\u001b[0;32m--> 150\u001b[0;31m       \u001b[0;32mreturn\u001b[0m \u001b[0mfn\u001b[0m\u001b[0;34m(\u001b[0m\u001b[0;34m*\u001b[0m\u001b[0margs\u001b[0m\u001b[0;34m,\u001b[0m \u001b[0;34m**\u001b[0m\u001b[0mkwargs\u001b[0m\u001b[0;34m)\u001b[0m\u001b[0;34m\u001b[0m\u001b[0;34m\u001b[0m\u001b[0m\n\u001b[0m\u001b[1;32m    151\u001b[0m     \u001b[0;32mexcept\u001b[0m \u001b[0mException\u001b[0m \u001b[0;32mas\u001b[0m \u001b[0me\u001b[0m\u001b[0;34m:\u001b[0m\u001b[0;34m\u001b[0m\u001b[0;34m\u001b[0m\u001b[0m\n\u001b[1;32m    152\u001b[0m       \u001b[0mfiltered_tb\u001b[0m \u001b[0;34m=\u001b[0m \u001b[0m_process_traceback_frames\u001b[0m\u001b[0;34m(\u001b[0m\u001b[0me\u001b[0m\u001b[0;34m.\u001b[0m\u001b[0m__traceback__\u001b[0m\u001b[0;34m)\u001b[0m\u001b[0;34m\u001b[0m\u001b[0;34m\u001b[0m\u001b[0m\n",
            "\u001b[0;32m/usr/local/lib/python3.11/dist-packages/tensorflow/python/eager/polymorphic_function/polymorphic_function.py\u001b[0m in \u001b[0;36m__call__\u001b[0;34m(self, *args, **kwds)\u001b[0m\n\u001b[1;32m    892\u001b[0m \u001b[0;34m\u001b[0m\u001b[0m\n\u001b[1;32m    893\u001b[0m       \u001b[0;32mwith\u001b[0m \u001b[0mOptionalXlaContext\u001b[0m\u001b[0;34m(\u001b[0m\u001b[0mself\u001b[0m\u001b[0;34m.\u001b[0m\u001b[0m_jit_compile\u001b[0m\u001b[0;34m)\u001b[0m\u001b[0;34m:\u001b[0m\u001b[0;34m\u001b[0m\u001b[0;34m\u001b[0m\u001b[0m\n\u001b[0;32m--> 894\u001b[0;31m         \u001b[0mresult\u001b[0m \u001b[0;34m=\u001b[0m \u001b[0mself\u001b[0m\u001b[0;34m.\u001b[0m\u001b[0m_call\u001b[0m\u001b[0;34m(\u001b[0m\u001b[0;34m*\u001b[0m\u001b[0margs\u001b[0m\u001b[0;34m,\u001b[0m \u001b[0;34m**\u001b[0m\u001b[0mkwds\u001b[0m\u001b[0;34m)\u001b[0m\u001b[0;34m\u001b[0m\u001b[0;34m\u001b[0m\u001b[0m\n\u001b[0m\u001b[1;32m    895\u001b[0m \u001b[0;34m\u001b[0m\u001b[0m\n\u001b[1;32m    896\u001b[0m       \u001b[0mnew_tracing_count\u001b[0m \u001b[0;34m=\u001b[0m \u001b[0mself\u001b[0m\u001b[0;34m.\u001b[0m\u001b[0mexperimental_get_tracing_count\u001b[0m\u001b[0;34m(\u001b[0m\u001b[0;34m)\u001b[0m\u001b[0;34m\u001b[0m\u001b[0;34m\u001b[0m\u001b[0m\n",
            "\u001b[0;32m/usr/local/lib/python3.11/dist-packages/tensorflow/python/eager/polymorphic_function/polymorphic_function.py\u001b[0m in \u001b[0;36m_call\u001b[0;34m(self, *args, **kwds)\u001b[0m\n\u001b[1;32m    924\u001b[0m       \u001b[0;31m# In this case we have created variables on the first call, so we run the\u001b[0m\u001b[0;34m\u001b[0m\u001b[0;34m\u001b[0m\u001b[0m\n\u001b[1;32m    925\u001b[0m       \u001b[0;31m# defunned version which is guaranteed to never create variables.\u001b[0m\u001b[0;34m\u001b[0m\u001b[0;34m\u001b[0m\u001b[0m\n\u001b[0;32m--> 926\u001b[0;31m       \u001b[0;32mreturn\u001b[0m \u001b[0mself\u001b[0m\u001b[0;34m.\u001b[0m\u001b[0m_no_variable_creation_fn\u001b[0m\u001b[0;34m(\u001b[0m\u001b[0;34m*\u001b[0m\u001b[0margs\u001b[0m\u001b[0;34m,\u001b[0m \u001b[0;34m**\u001b[0m\u001b[0mkwds\u001b[0m\u001b[0;34m)\u001b[0m  \u001b[0;31m# pylint: disable=not-callable\u001b[0m\u001b[0;34m\u001b[0m\u001b[0;34m\u001b[0m\u001b[0m\n\u001b[0m\u001b[1;32m    927\u001b[0m     \u001b[0;32melif\u001b[0m \u001b[0mself\u001b[0m\u001b[0;34m.\u001b[0m\u001b[0m_variable_creation_fn\u001b[0m \u001b[0;32mis\u001b[0m \u001b[0;32mnot\u001b[0m \u001b[0;32mNone\u001b[0m\u001b[0;34m:\u001b[0m\u001b[0;34m\u001b[0m\u001b[0;34m\u001b[0m\u001b[0m\n\u001b[1;32m    928\u001b[0m       \u001b[0;31m# Release the lock early so that multiple threads can perform the call\u001b[0m\u001b[0;34m\u001b[0m\u001b[0;34m\u001b[0m\u001b[0m\n",
            "\u001b[0;32m/usr/local/lib/python3.11/dist-packages/tensorflow/python/eager/polymorphic_function/tracing_compiler.py\u001b[0m in \u001b[0;36m__call__\u001b[0;34m(self, *args, **kwargs)\u001b[0m\n\u001b[1;32m    141\u001b[0m       (concrete_function,\n\u001b[1;32m    142\u001b[0m        filtered_flat_args) = self._maybe_define_function(args, kwargs)\n\u001b[0;32m--> 143\u001b[0;31m     return concrete_function._call_flat(\n\u001b[0m\u001b[1;32m    144\u001b[0m         filtered_flat_args, captured_inputs=concrete_function.captured_inputs)  # pylint: disable=protected-access\n\u001b[1;32m    145\u001b[0m \u001b[0;34m\u001b[0m\u001b[0m\n",
            "\u001b[0;32m/usr/local/lib/python3.11/dist-packages/tensorflow/python/eager/polymorphic_function/monomorphic_function.py\u001b[0m in \u001b[0;36m_call_flat\u001b[0;34m(self, args, captured_inputs, cancellation_manager)\u001b[0m\n\u001b[1;32m   1755\u001b[0m         and executing_eagerly):\n\u001b[1;32m   1756\u001b[0m       \u001b[0;31m# No tape is watching; skip to running the function.\u001b[0m\u001b[0;34m\u001b[0m\u001b[0;34m\u001b[0m\u001b[0m\n\u001b[0;32m-> 1757\u001b[0;31m       return self._build_call_outputs(self._inference_function.call(\n\u001b[0m\u001b[1;32m   1758\u001b[0m           ctx, args, cancellation_manager=cancellation_manager))\n\u001b[1;32m   1759\u001b[0m     forward_backward = self._select_forward_and_backward_functions(\n",
            "\u001b[0;32m/usr/local/lib/python3.11/dist-packages/tensorflow/python/eager/polymorphic_function/monomorphic_function.py\u001b[0m in \u001b[0;36mcall\u001b[0;34m(self, ctx, args, cancellation_manager)\u001b[0m\n\u001b[1;32m    379\u001b[0m       \u001b[0;32mwith\u001b[0m \u001b[0m_InterpolateFunctionError\u001b[0m\u001b[0;34m(\u001b[0m\u001b[0mself\u001b[0m\u001b[0;34m)\u001b[0m\u001b[0;34m:\u001b[0m\u001b[0;34m\u001b[0m\u001b[0;34m\u001b[0m\u001b[0m\n\u001b[1;32m    380\u001b[0m         \u001b[0;32mif\u001b[0m \u001b[0mcancellation_manager\u001b[0m \u001b[0;32mis\u001b[0m \u001b[0;32mNone\u001b[0m\u001b[0;34m:\u001b[0m\u001b[0;34m\u001b[0m\u001b[0;34m\u001b[0m\u001b[0m\n\u001b[0;32m--> 381\u001b[0;31m           outputs = execute.execute(\n\u001b[0m\u001b[1;32m    382\u001b[0m               \u001b[0mstr\u001b[0m\u001b[0;34m(\u001b[0m\u001b[0mself\u001b[0m\u001b[0;34m.\u001b[0m\u001b[0msignature\u001b[0m\u001b[0;34m.\u001b[0m\u001b[0mname\u001b[0m\u001b[0;34m)\u001b[0m\u001b[0;34m,\u001b[0m\u001b[0;34m\u001b[0m\u001b[0;34m\u001b[0m\u001b[0m\n\u001b[1;32m    383\u001b[0m               \u001b[0mnum_outputs\u001b[0m\u001b[0;34m=\u001b[0m\u001b[0mself\u001b[0m\u001b[0;34m.\u001b[0m\u001b[0m_num_outputs\u001b[0m\u001b[0;34m,\u001b[0m\u001b[0;34m\u001b[0m\u001b[0;34m\u001b[0m\u001b[0m\n",
            "\u001b[0;32m/usr/local/lib/python3.11/dist-packages/tensorflow/python/eager/execute.py\u001b[0m in \u001b[0;36mquick_execute\u001b[0;34m(op_name, num_outputs, inputs, attrs, ctx, name)\u001b[0m\n\u001b[1;32m     50\u001b[0m   \u001b[0;32mtry\u001b[0m\u001b[0;34m:\u001b[0m\u001b[0;34m\u001b[0m\u001b[0;34m\u001b[0m\u001b[0m\n\u001b[1;32m     51\u001b[0m     \u001b[0mctx\u001b[0m\u001b[0;34m.\u001b[0m\u001b[0mensure_initialized\u001b[0m\u001b[0;34m(\u001b[0m\u001b[0;34m)\u001b[0m\u001b[0;34m\u001b[0m\u001b[0;34m\u001b[0m\u001b[0m\n\u001b[0;32m---> 52\u001b[0;31m     tensors = pywrap_tfe.TFE_Py_Execute(ctx._handle, device_name, op_name,\n\u001b[0m\u001b[1;32m     53\u001b[0m                                         inputs, attrs, num_outputs)\n\u001b[1;32m     54\u001b[0m   \u001b[0;32mexcept\u001b[0m \u001b[0mcore\u001b[0m\u001b[0;34m.\u001b[0m\u001b[0m_NotOkStatusException\u001b[0m \u001b[0;32mas\u001b[0m \u001b[0me\u001b[0m\u001b[0;34m:\u001b[0m\u001b[0;34m\u001b[0m\u001b[0;34m\u001b[0m\u001b[0m\n",
            "\u001b[0;31mKeyboardInterrupt\u001b[0m: "
          ]
        }
      ]
    },
    {
      "cell_type": "code",
      "source": [
        "import cv2\n",
        "import numpy as np\n",
        "\n",
        "def detect_fruits(image_path, model):\n",
        "    img = cv2.imread(image_path)\n",
        "    img = cv2.resize(img, (100, 100))\n",
        "    img = img / 255.0\n",
        "    img = np.expand_dims(img, axis=0)\n",
        "\n",
        "    # Predecir\n",
        "    predictions = model.predict(img)\n",
        "    predicted_class = np.argmax(predictions)\n",
        "\n",
        "    # Mapear índice a nombre de clase\n",
        "    class_names = list(train_generator.class_indices.keys())\n",
        "    return class_names[predicted_class]"
      ],
      "metadata": {
        "id": "LKg8sT-Tx4wQ"
      },
      "execution_count": null,
      "outputs": []
    },
    {
      "cell_type": "code",
      "source": [
        "ensaladas_db = {\n",
        "    \"Manzana\": [\"Ensalada Waldorf\", \"Ensalada de manzana y nueces\"],\n",
        "    \"Banana\": [\"Ensalada tropical\", \"Ensalada de banana y yogur\"],\n",
        "    \"Naranja\": [\"Ensalada cítrica\", \"Ensalada de espinacas y naranja\"],\n",
        "    \"Fresa\": [\"Ensalada de fresas y espinacas\", \"Ensalada de frutos rojos\"],\n",
        "    \"Aguacate\": [\"Ensalada de aguacate y quinoa\", \"Ensalada César con aguacate\"],\n",
        "    # Añade más frutas y recetas...\n",
        "}\n",
        "\n",
        "def sugerir_ensaladas(frutas_detectadas):\n",
        "    recetas = []\n",
        "    for fruta in frutas_detectadas:\n",
        "        if fruta in ensaladas_db:\n",
        "            recetas.extend(ensaladas_db[fruta])\n",
        "    return list(set(recetas))"
      ],
      "metadata": {
        "id": "qtgJTm4oyJNI"
      },
      "execution_count": null,
      "outputs": []
    },
    {
      "cell_type": "code",
      "source": [
        "if __name__ == \"__main__\":\n",
        "    # Cargar modelo entrenado\n",
        "    model = tf.keras.models.load_model(\"fruit_recognition_model.h5\")\n",
        "\n",
        "    # Ejemplo: Detectar frutas en una imagen\n",
        "    image_path = \"prueba.jpg\"\n",
        "    fruta_detectada = detect_fruits(image_path, model)\n",
        "    print(f\"Fruta detectada: {fruta_detectada}\")\n",
        "\n",
        "    # Sugerir ensaladas\n",
        "    recetas = sugerir_ensaladas([fruta_detectada])\n",
        "    print(\"\\nRecetas sugeridas:\")\n",
        "    for i, receta in enumerate(recetas, 1):\n",
        "        print(f\"{i}. {receta}\")"
      ],
      "metadata": {
        "id": "Gba_q3HRyK9X"
      },
      "execution_count": null,
      "outputs": []
    },
    {
      "cell_type": "code",
      "source": [
        "import matplotlib.pyplot as plt\n",
        "\n",
        "# Graficar precisión\n",
        "plt.figure(figsize=(12, 5))\n",
        "plt.subplot(1, 2, 1)\n",
        "plt.plot(history.history['accuracy'], label='Precisión en entrenamiento')\n",
        "plt.plot(history.history['val_accuracy'], label='Precisión en validación')\n",
        "plt.title('Precisión del Modelo')\n",
        "plt.xlabel('Época')\n",
        "plt.ylabel('Precisión')\n",
        "plt.legend()\n",
        "\n",
        "# Graficar pérdida\n",
        "plt.subplot(1, 2, 2)\n",
        "plt.plot(history.history['loss'], label='Pérdida en entrenamiento')\n",
        "plt.plot(history.history['val_loss'], label='Pérdida en validación')\n",
        "plt.title('Pérdida del Modelo')\n",
        "plt.xlabel('Época')\n",
        "plt.ylabel('Pérdida')\n",
        "plt.legend()\n",
        "\n",
        "plt.show()"
      ],
      "metadata": {
        "id": "PWZp_3qC3Cwg"
      },
      "execution_count": null,
      "outputs": []
    }
  ]
}